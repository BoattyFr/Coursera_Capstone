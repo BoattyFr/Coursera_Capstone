{
  "nbformat": 4,
  "nbformat_minor": 0,
  "metadata": {
    "colab": {
      "name": "Untitled7.ipynb",
      "provenance": []
    },
    "kernelspec": {
      "name": "python3",
      "display_name": "Python 3"
    }
  },
  "cells": [
    {
      "cell_type": "markdown",
      "metadata": {
        "id": "1a-LRqLwTjSW",
        "colab_type": "text"
      },
      "source": [
        "#This notebook will be used for Capstone project."
      ]
    },
    {
      "cell_type": "code",
      "metadata": {
        "id": "F1VjG1M2THaO",
        "colab_type": "code",
        "colab": {
          "base_uri": "https://localhost:8080/",
          "height": 34
        },
        "outputId": "f33bdafc-9680-48b5-8187-d6f739da8eb8"
      },
      "source": [
        "import numpy as np \n",
        "import pandas as pd \n",
        "\n",
        "print(\"Hello Capstone Project Course!\")"
      ],
      "execution_count": 1,
      "outputs": [
        {
          "output_type": "stream",
          "text": [
            "Hello Capstone Project Course!\n"
          ],
          "name": "stdout"
        }
      ]
    }
  ]
}